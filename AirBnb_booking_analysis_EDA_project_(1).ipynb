{
  "nbformat": 4,
  "nbformat_minor": 0,
  "metadata": {
    "colab": {
      "private_outputs": true,
      "provenance": [],
      "include_colab_link": true
    },
    "kernelspec": {
      "name": "python3",
      "display_name": "Python 3"
    },
    "language_info": {
      "name": "python"
    }
  },
  "cells": [
    {
      "cell_type": "markdown",
      "metadata": {
        "id": "view-in-github",
        "colab_type": "text"
      },
      "source": [
        "<a href=\"https://colab.research.google.com/github/vishalgokak/Projects/blob/main/AirBnb_booking_analysis_EDA_project_(1).ipynb\" target=\"_parent\"><img src=\"https://colab.research.google.com/assets/colab-badge.svg\" alt=\"Open In Colab\"/></a>"
      ]
    },
    {
      "cell_type": "markdown",
      "source": [
        "# **Project Name**    - AirBnb Booking Analysis EDA\n",
        "\n"
      ],
      "metadata": {
        "id": "vncDsAP0Gaoa"
      }
    },
    {
      "cell_type": "markdown",
      "source": [
        "##### **Project Type**    - EDA\n",
        "##### **Contribution**    - Individual\n",
        "##### **Name **           - Vishal gokak"
      ],
      "metadata": {
        "id": "beRrZCGUAJYm"
      }
    },
    {
      "cell_type": "markdown",
      "source": [
        "# **Project Summary -**"
      ],
      "metadata": {
        "id": "FJNUwmbgGyua"
      }
    },
    {
      "cell_type": "markdown",
      "source": [
        "Airbnb is a popular online marketplace that allows people to rent out their homes or apartments to travelers. The platform provides a convenient and affordable alternative to traditional hotels, and hosts can earn extra income by renting out their properties.\n",
        "\n",
        "The project can help aspiring Airbnb hosts to ensure that their listing is equipped with the important features to charge a higher price without losing customers, and travellers can determine the factors to look into to get the lowest price possible while having certain features they prefer.\n",
        "\n",
        "In conclusion, the Airbnb data analysis project is a valuable study that aims to help both Airbnb hosts and travelers to help them make informed decisions based on the significant factors and features that affect the listing price.\n",
        "\n",
        "**Approach used:**\n",
        "\n",
        "The approach we have used in this project is defined in the given format-\n",
        "\n",
        "1) **Loading our data** : In this section we just loaded our dataset in colab notebook and read the csv file.\n",
        "\n",
        "2) **Data Cleaning and Processing** : In this section we have tried to remove the null values and for some of the columns we have replaced the null values with the appropriate values with reasonable assumptions .\n",
        "\n",
        "3) **Analysis and Visualization** : In this section we have tried to explore all variables which can play an important role for the analysis . In the next parts we have tried to explore the effect of one over the other . In the next part we tried to answers our hypothetical questions.\n",
        "\n",
        "4) **Future scope of Further Analysis**: There are many apartments having availability as 0 and the date of last_review is very old, which can mean that they must have stopped their business, we can find the relation with neighbourhood with these apartments if we could dig much, various micro trends could be unearthed, which we are not able to cover during this short duration efficiently. There are various columns which can play an important role in further analysis such as number of reviews and reviews per month finding its relation with other factors or other grouped factors can play an important role.\n",
        "\n",
        "**Types of graphs used for data visualization:**\n",
        "\n",
        "1) Count Plot\n",
        "\n",
        "2) Bar Plot\n",
        "\n",
        "3) Scatter Plot\n",
        "\n",
        "4) Heatmap\n",
        "\n",
        "5) Box plot\n",
        "\n",
        "**Python Libraries used for graphs:**\n",
        "\n",
        "1) Matplotib\n",
        "\n",
        "2) Seaborn\n",
        "\n",
        "3) Numpy\n",
        "\n",
        "4) Pandas\n",
        "\n",
        "**What is EDA?**\n",
        "\n",
        "“Exploratory Data Analysis “ is very important in machine learning . Whenever we start our work on any project we must analyse the factors deeply .Hypothetical questions and that hypothetical questions lead to some hidden facts . This collaborative work is simply known as EDA.The following steps are involved in the process of EDA\n",
        "\n",
        "\n",
        "1) Acquire and loading data\n",
        "\n",
        "2) Understanding the variables\n",
        "\n",
        "3) Cleaning dataset\n",
        "\n",
        "4) Exploring and Visualizing Data\n",
        "\n",
        "5) Analyzing relationships between variables"
      ],
      "metadata": {
        "id": "F6v_1wHtG2nS"
      }
    },
    {
      "cell_type": "markdown",
      "source": [
        "**Business Text:**\n",
        "\n",
        "The business context for Airbnb is rooted in the current state and projected future of the vacation rental industry. As the tourism industry recovers from the COVID-19 pandemic, short-term rental platforms like Airbnb are seeing increased demand and revenue. In particular, the US market is experiencing a surge in listings and high occupancy rates, especially during peak vacation months. This presents an opportunity for investors and property owners to capitalize on the market trends and optimize their rental strategies to meet the needs of travelers.\n",
        "\n",
        "However, with the potential for fluctuations in the market and varying demand across different locations, it is important for businesses to conduct data analysis to inform their decision-making and stay competitive. Through data analysis, businesses can gain insights into market trends, occupancy rates, pricing strategies, and customer preferences that can help them optimize their listings and increase their revenue."
      ],
      "metadata": {
        "id": "AGShPmAQvQ_6"
      }
    },
    {
      "cell_type": "markdown",
      "source": [
        "# **GitHub Link -**"
      ],
      "metadata": {
        "id": "w6K7xa23Elo4"
      }
    },
    {
      "cell_type": "markdown",
      "source": [
        "https://github.com/vishalgokak/Projects/blob/main/AirBnb_booking_analysis_EDA_project_(1)%20(2).ipynb"
      ],
      "metadata": {
        "id": "h1o69JH3Eqqn"
      }
    },
    {
      "cell_type": "markdown",
      "source": [
        "# **Problem Statement**\n"
      ],
      "metadata": {
        "id": "yQaldy8SH6Dl"
      }
    },
    {
      "cell_type": "markdown",
      "source": [
        "**Problem Statement**\n",
        "\n",
        "The aim of this project is to analyze Airbnb data and provide actionable insights to improve the hosting experience and overall satisfaction of both hosts and guests. By exploring the dataset, we seek to address the following key challenges:\n",
        "\n",
        "1. **Demand and Pricing Analysis**: Analyze historical booking data to understand the factors influencing demand for Airbnb accommodations in different locations. Determine how various attributes, such as location, property type, amenities, and seasonality, impact pricing strategies.\n",
        "\n",
        "2. **Customer Experience Assessment**: Examine customer reviews and ratings to identify patterns and trends that impact guest satisfaction. Identify common pain points and areas for improvement in order to enhance the overall experience of guests staying at Airbnb listings.\n",
        "\n",
        "3. **Host Performance Evaluation**: Evaluate the performance of hosts based on key metrics such as occupancy rate, average ratings, and response time. Identify successful hosting practices and provide recommendations for hosts to improve their listing's performance and attract more bookings. Explore the impact of factors like pricing, availability, and responsiveness on host ratings.\n",
        "\n",
        "4. **Trend Analysis and Forecasting**: Identify emerging trends in the Airbnb market, such as new popular neighborhoods, changing guest preferences, or shifts in demand during specific seasons.\n",
        "\n",
        "Overall, this project aims to leverage Airbnb data to empower hosts and improve the guest experience by providing valuable insights into pricing, customer preferences, host performance, competition, and future trends. The findings will help hosts make data-driven decisions to optimize their offerings and enhance the overall Airbnb ecosystem."
      ],
      "metadata": {
        "id": "DpeJGUA3kjGy"
      }
    },
    {
      "cell_type": "markdown",
      "source": [
        "# **General Guidelines** : -"
      ],
      "metadata": {
        "id": "mDgbUHAGgjLW"
      }
    },
    {
      "cell_type": "markdown",
      "source": [
        "1.   Well-structured, formatted, and commented code is required.\n",
        "2.   Exception Handling, Production Grade Code & Deployment Ready Code will be a plus. Those students will be awarded some additional credits.\n",
        "\n",
        "     The additional credits will have advantages over other students during Star Student selection.\n",
        "\n",
        "             [ Note: - Deployment Ready Code is defined as, the whole .ipynb notebook should be executable in one go\n",
        "                       without a single error logged. ]\n",
        "\n",
        "3.   Each and every logic should have proper comments.\n",
        "4. You may add as many number of charts you want. Make Sure for each and every chart the following format should be answered.\n",
        "\n",
        "\n",
        "```\n",
        "# Chart visualization code\n",
        "```\n",
        "\n",
        "\n",
        "*   Why did you pick the specific chart?\n",
        "*   What is/are the insight(s) found from the chart?\n",
        "* Will the gained insights help creating a positive business impact?\n",
        "Are there any insights that lead to negative growth? Justify with specific reason.\n",
        "\n",
        "5. You have to create at least 20 logical & meaningful charts having important insights.\n",
        "\n",
        "\n",
        "[ Hints : - Do the Vizualization in  a structured way while following \"UBM\" Rule.\n",
        "\n",
        "U - Univariate Analysis,\n",
        "\n",
        "B - Bivariate Analysis (Numerical - Categorical, Numerical - Numerical, Categorical - Categorical)\n",
        "\n",
        "M - Multivariate Analysis\n",
        " ]\n",
        "\n",
        "\n",
        "\n"
      ],
      "metadata": {
        "id": "ZrxVaUj-hHfC"
      }
    },
    {
      "cell_type": "markdown",
      "source": [
        "**Table of content**\n",
        "\n",
        "1.Loading Data\n",
        "\n",
        "2.checking for NaN values\n",
        "\n",
        "3.Handling NaNs\n",
        "\n",
        "4.Analysis"
      ],
      "metadata": {
        "id": "t78SCk5U66Qw"
      }
    },
    {
      "cell_type": "markdown",
      "source": [
        "# **Questions for Analysis:**\n",
        "\n",
        "\n",
        "\n",
        "**1) What are the top 10 neighbourhoods contributing the most number of apartments for AirBnB?**\n",
        "\n",
        "**2) What is the average price of bookings based on neighbourhood group as per category of listing?**\n",
        "\n",
        "**3) How does the cost vary with respect to the neighbourhood in each neighbourhood group?**\n",
        "\n",
        "**4) How does the range of room type differ according to each neighbourhood group?**\n",
        "\n",
        "**5) How neighbourhood is related to reviews?**\n",
        "\n",
        "**6) How the price column is distributed over room_type?**\n",
        "\n",
        "**7) What is the average price preferred by the customers according to each neighbourhood group for each category of room type?**\n",
        "\n",
        "**8) What is the distribution of the room type across the locations?**\n",
        "\n",
        "**9) Which hosts are having heighest number of appartments ?**\n",
        "\n",
        "**10) Which are the top 5 hosts that have obatained heighest no. of reviews?**"
      ],
      "metadata": {
        "id": "EalUSWlJdhhA"
      }
    },
    {
      "cell_type": "markdown",
      "source": [
        "## ***1. Know Your Data***"
      ],
      "metadata": {
        "id": "HhfV-JJviCcP"
      }
    },
    {
      "cell_type": "markdown",
      "source": [
        "### Import Libraries"
      ],
      "metadata": {
        "id": "Y3lxredqlCYt"
      }
    },
    {
      "cell_type": "code",
      "source": [
        "# Import Libraries\n",
        "import numpy as np\n",
        "import pandas as pd\n",
        "from numpy import math\n",
        "from numpy import loadtxt\n",
        "import seaborn as sns\n",
        "import matplotlib.pyplot as plt\n",
        "%matplotlib inline\n",
        "from matplotlib import rcParams\n",
        "\n",
        "\n",
        "import warnings\n",
        "warnings.filterwarnings('ignore')"
      ],
      "metadata": {
        "id": "M8Vqi-pPk-HR"
      },
      "execution_count": null,
      "outputs": []
    },
    {
      "cell_type": "markdown",
      "source": [
        "### Dataset Loading"
      ],
      "metadata": {
        "id": "3RnN4peoiCZX"
      }
    },
    {
      "cell_type": "code",
      "source": [
        "# Load Dataset\n",
        "from google.colab import drive\n",
        "drive.mount('/content/drive')"
      ],
      "metadata": {
        "id": "4CkvbW_SlZ_R"
      },
      "execution_count": null,
      "outputs": []
    },
    {
      "cell_type": "code",
      "source": [
        "path = \"/content/drive/MyDrive/Airbnb NYC 2019.csv\"\n",
        "data_set = pd.read_csv(path)\n",
        "data_set.head(5)"
      ],
      "metadata": {
        "id": "dvCFO9UeLOcr"
      },
      "execution_count": null,
      "outputs": []
    },
    {
      "cell_type": "markdown",
      "source": [
        "### Dataset First View"
      ],
      "metadata": {
        "id": "x71ZqKXriCWQ"
      }
    },
    {
      "cell_type": "code",
      "source": [
        "#lets checkout coloumns having  NULL values\n",
        "data_set.isna().sum()"
      ],
      "metadata": {
        "id": "S3pR3vyR8u6m"
      },
      "execution_count": null,
      "outputs": []
    },
    {
      "cell_type": "code",
      "source": [
        "data_set.loc[:,data_set.isna().sum()!=0]"
      ],
      "metadata": {
        "id": "jkwMN3dF88xG"
      },
      "execution_count": null,
      "outputs": []
    },
    {
      "cell_type": "code",
      "source": [
        "# Dataset First Look\n",
        "data_set.head()"
      ],
      "metadata": {
        "id": "LWNFOSvLl09H"
      },
      "execution_count": null,
      "outputs": []
    },
    {
      "cell_type": "markdown",
      "source": [
        "### Dataset Rows & Columns count"
      ],
      "metadata": {
        "id": "7hBIi_osiCS2"
      }
    },
    {
      "cell_type": "code",
      "source": [
        "# Dataset Rows & Columns count\n",
        "\n",
        "data_set.shape"
      ],
      "metadata": {
        "id": "Kllu7SJgmLij"
      },
      "execution_count": null,
      "outputs": []
    },
    {
      "cell_type": "markdown",
      "source": [
        "### Dataset Information"
      ],
      "metadata": {
        "id": "JlHwYmJAmNHm"
      }
    },
    {
      "cell_type": "code",
      "source": [
        "# Dataset Info\n",
        "\n",
        "data_set.info()"
      ],
      "metadata": {
        "id": "e9hRXRi6meOf"
      },
      "execution_count": null,
      "outputs": []
    },
    {
      "cell_type": "markdown",
      "source": [
        "#### Duplicate Values"
      ],
      "metadata": {
        "id": "35m5QtbWiB9F"
      }
    },
    {
      "cell_type": "code",
      "source": [
        "# Dataset Duplicate Value Count\n",
        "len(data_set[data_set.duplicated()])"
      ],
      "metadata": {
        "id": "1sLdpKYkmox0"
      },
      "execution_count": null,
      "outputs": []
    },
    {
      "cell_type": "markdown",
      "source": [
        "#### Missing Values/Null Values"
      ],
      "metadata": {
        "id": "PoPl-ycgm1ru"
      }
    },
    {
      "cell_type": "code",
      "source": [
        "# Missing Values/Null Values Count\n",
        "print(data_set.isnull().sum())"
      ],
      "metadata": {
        "id": "GgHWkxvamxVg"
      },
      "execution_count": null,
      "outputs": []
    },
    {
      "cell_type": "code",
      "source": [
        "# Visualizing the missing values\n",
        "\n",
        "sns.heatmap(data_set.isnull(), cbar=False)"
      ],
      "metadata": {
        "id": "3q5wnI3om9sJ"
      },
      "execution_count": null,
      "outputs": []
    },
    {
      "cell_type": "markdown",
      "source": [
        "**About the dataset:**\n",
        "\n",
        "This dataset has around 49,000 observations in it with 16 columns and it is a mix between categorical and numeric values.\n",
        "\n",
        "Airbnb is an online marketplace connecting travelers with local hosts. On one side, the platform enables people to list their available space and earn extra income in the form of rent. On the other, Airbnb enables travelers to book unique homestays from local hosts, saving them money and giving them a chance to interact with locals. Catering to the on-demand travel industry, Airbnb is present in over 190 countries across the world.\n",
        "\n",
        "The data we are going to analyse is the data of Airbnb NYC (2019). Our main objectives of analysis will be above four statements which can be briefed as learnings from hosts, areas, price, reviews, locations etc. but we are not limited to it,we will also try to explore some more insights."
      ],
      "metadata": {
        "id": "H0kj-8xxnORC"
      }
    },
    {
      "cell_type": "markdown",
      "source": [
        "## ***2. Understanding Your Variables***"
      ],
      "metadata": {
        "id": "nA9Y7ga8ng1Z"
      }
    },
    {
      "cell_type": "code",
      "source": [
        "# Dataset Columns\n",
        "data_set.columns"
      ],
      "metadata": {
        "id": "j7xfkqrt5Ag5"
      },
      "execution_count": null,
      "outputs": []
    },
    {
      "cell_type": "code",
      "source": [
        "# Dataset Describe\n",
        "data_set.describe(include = 'all')\n"
      ],
      "metadata": {
        "id": "DnOaZdaE5Q5t"
      },
      "execution_count": null,
      "outputs": []
    },
    {
      "cell_type": "markdown",
      "source": [
        "### Check Unique Values for each variable."
      ],
      "metadata": {
        "id": "u3PMJOP6ngxN"
      }
    },
    {
      "cell_type": "code",
      "source": [
        "# Check Unique Values for each variable.\n",
        "for i in data_set.columns.tolist():\n",
        "  print(\"no of unique values in\",i,\"is\",data_set[i].nunique(),\".\")"
      ],
      "metadata": {
        "id": "zms12Yq5n-jE"
      },
      "execution_count": null,
      "outputs": []
    },
    {
      "cell_type": "markdown",
      "source": [
        "## 3. ***Data Wrangling***"
      ],
      "metadata": {
        "id": "dauF4eBmngu3"
      }
    },
    {
      "cell_type": "code",
      "source": [
        "# Write your code to make your dataset analysis ready.\n",
        "# Create a copy of the current dataset and assigning to df\n",
        "df= data_set.copy()\n",
        "\n",
        "\n",
        "\n"
      ],
      "metadata": {
        "id": "wk-9a2fpoLcV"
      },
      "execution_count": null,
      "outputs": []
    },
    {
      "cell_type": "code",
      "source": [
        "#Checking Shape of True Value\n",
        "print(\"No of customers on Airbnb : - \", len(df[df['id']==True]))"
      ],
      "metadata": {
        "id": "w03ywDjeNZ3T"
      },
      "execution_count": null,
      "outputs": []
    },
    {
      "cell_type": "code",
      "source": [
        "df.fillna({'reviews_per_month':0},inplace=True)"
      ],
      "metadata": {
        "id": "11Cxy-pV9p76"
      },
      "execution_count": null,
      "outputs": []
    },
    {
      "cell_type": "markdown",
      "source": [
        "## ***4. Data Vizualization, Storytelling & Experimenting with charts : Understand the relationships between variables***"
      ],
      "metadata": {
        "id": "GF8Ens_Soomf"
      }
    },
    {
      "cell_type": "markdown",
      "source": [
        " **Question 1: What are the top 10 neighbourhoods contributing the most number of apartments for AirBnB?**"
      ],
      "metadata": {
        "id": "6DoBsW6iUN2z"
      }
    },
    {
      "cell_type": "code",
      "source": [
        "df['neighbourhood'].value_counts().head(10)"
      ],
      "metadata": {
        "id": "VXiHMN9RVT2s"
      },
      "execution_count": null,
      "outputs": []
    },
    {
      "cell_type": "code",
      "source": [
        "#Plotting the top 10 neighbourhoods contributing the most number of apartments for AirBnB\n",
        "pd.value_counts(df['neighbourhood'])[:10].plot.bar()"
      ],
      "metadata": {
        "id": "zgiL7I_eV2Nq"
      },
      "execution_count": null,
      "outputs": []
    },
    {
      "cell_type": "code",
      "source": [
        "df['neighbourhood_group'].value_counts()"
      ],
      "metadata": {
        "id": "DiTKRwIJWtPu"
      },
      "execution_count": null,
      "outputs": []
    },
    {
      "cell_type": "code",
      "source": [
        "pd.value_counts(df['neighbourhood_group']).plot.bar()"
      ],
      "metadata": {
        "id": "PePwk2mwW2l3"
      },
      "execution_count": null,
      "outputs": []
    },
    {
      "cell_type": "markdown",
      "source": [
        "**Insights**: We can evidentially conclude that Manhattan contributes the most number of apartments, whereas the Staten Island contributes the least. Hence we can consider the least contributing sites as potential locations for future expansion in terms of apartments"
      ],
      "metadata": {
        "id": "Y-IN3kyea90N"
      }
    },
    {
      "cell_type": "markdown",
      "source": [
        "**Question 2: What is the average price of bookings based on neighbourhood group as per category of listing?**"
      ],
      "metadata": {
        "id": "z9PBUwK2YoCM"
      }
    },
    {
      "cell_type": "code",
      "source": [
        "# applying groupby over 'neighbourhood_groups' and 'room_type'\n",
        "# then applying mean of price  and unstacking for clear visualization\n",
        "\n",
        "average_price = df.groupby(['neighbourhood_group', 'room_type'])['price'].mean().unstack()\n",
        "average_price"
      ],
      "metadata": {
        "id": "4frY04zrZXH8"
      },
      "execution_count": null,
      "outputs": []
    },
    {
      "cell_type": "code",
      "source": [
        "#plotting for the average price vs neighbourhood group\n",
        "\n",
        "average_price.plot.bar(figsize=(20,8), ylabel = 'Average Booking price')"
      ],
      "metadata": {
        "id": "PjJeHPGVaJnU"
      },
      "execution_count": null,
      "outputs": []
    },
    {
      "cell_type": "markdown",
      "source": [
        "**Insights**: Manhattan has the most expensive pricing compared to other neighbourhood groups"
      ],
      "metadata": {
        "id": "M0UhkzcLcHYy"
      }
    },
    {
      "cell_type": "markdown",
      "source": [
        "**Question 3: How does the cost vary with respect to the neighbourhood in each neighbourhood group?**"
      ],
      "metadata": {
        "id": "XESiWehPqBRc"
      }
    },
    {
      "cell_type": "code",
      "source": [
        "# The top 3 neighbourhoods in each neighbourhood group having maximum price\n",
        "df_manhattan=df[df['neighbourhood_group']=='Manhattan']\n",
        "df_queens=df[df['neighbourhood_group']=='Queens']\n",
        "df_brooklyn=df[df['neighbourhood_group']=='Brooklyn']\n",
        "df_bronx=df[df['neighbourhood_group']=='Bronx']\n",
        "df_staten=df[df['neighbourhood_group']=='Staten Island']\n",
        "\n",
        "# top 3 neighbourhood in Manhattan which are having maximum prices\n",
        "print('Top 3 neighbourhood in Manhattan which are having maximum prices ')\n",
        "df_manhattan.groupby(['neighbourhood'])['price'].max().sort_values(ascending=False).reset_index().head(3)"
      ],
      "metadata": {
        "id": "2gVLQB0sQnsB"
      },
      "execution_count": null,
      "outputs": []
    },
    {
      "cell_type": "code",
      "source": [
        "# top 3 neighbourhood in Staten Island which are having maximum prices\n",
        "print('Top 3 neighbourhood in Staten Island which are having maximum prices')\n",
        "df_staten.groupby(['neighbourhood'])['price'].max().sort_values(ascending=False).reset_index().head(3)"
      ],
      "metadata": {
        "id": "WJVazhFsRdja"
      },
      "execution_count": null,
      "outputs": []
    },
    {
      "cell_type": "code",
      "source": [
        "# top 3 neighbourhood in bronx which are having maximum prices\n",
        "print('Top 3 neighbourhood in bronx which are having maximum prices')\n",
        "df_bronx.groupby(['neighbourhood'])['price'].max().sort_values(ascending=False).reset_index().head(3)"
      ],
      "metadata": {
        "id": "BBuiXzKPRj_P"
      },
      "execution_count": null,
      "outputs": []
    },
    {
      "cell_type": "code",
      "source": [
        "# top 3 neighbourhood in Queens which are having maximum prices\n",
        "print('Top 3 neighbourhood in Queenswhich are having maximum prices')\n",
        "df_queens.groupby(['neighbourhood'])['price'].max().sort_values(ascending=False).reset_index().head(3)"
      ],
      "metadata": {
        "id": "d7pMn8ZCRpap"
      },
      "execution_count": null,
      "outputs": []
    },
    {
      "cell_type": "code",
      "source": [
        "# top 3 neighbourhood in brooklyn which are having maximum prices\n",
        "print('Top 3 neighbourhood in brooklyn which are having maximum prices')\n",
        "df_brooklyn.groupby(['neighbourhood'])['price'].max().sort_values(ascending=False).reset_index().head(3)"
      ],
      "metadata": {
        "id": "7H3DJZIFRrg6"
      },
      "execution_count": null,
      "outputs": []
    },
    {
      "cell_type": "markdown",
      "source": [
        "**Question 4: How does the range of room type differ according to each neighbourhood group?**"
      ],
      "metadata": {
        "id": "p8m39uNUR-rQ"
      }
    },
    {
      "cell_type": "code",
      "source": [
        "plt.figure(figsize=(10,5))\n",
        "N=5  # number of bars in each category\n",
        "ind = np.arange(3)\n",
        "width=0.3\n",
        "\n",
        "# storing the values of all values counts by the room_type for specific neighbourhood_group\n",
        "\n",
        "bronx_values=df_bronx['room_type'].value_counts().values\n",
        "brooklyn_values=df_brooklyn['room_type'].value_counts().values\n",
        "manhattan_values=df_manhattan['room_type'].value_counts().values\n",
        "queen_values=df_queens['room_type'].value_counts().values\n",
        "staten_values=df_staten['room_type'].value_counts().values\n",
        "# plotting the values\n",
        "plt.bar(ind,bronx_values,0.2,label='bronx')\n",
        "plt.bar(ind+0.1,brooklyn_values,0.2,label='brooklyn')\n",
        "plt.bar(ind+0.2,manhattan_values,0.2,label='manhattan')\n",
        "plt.bar(ind+0.3,queen_values,0.2,label='queens')\n",
        "plt.bar(ind+0.4,staten_values,0.2,label='Staten Island')\n",
        "plt.xlabel('Room type')\n",
        "plt.ylabel('Neighbourhood group')\n",
        "plt.title('Distribution of Room type over the different Neighbourhood Group')\n",
        "\n",
        "plt.xticks(ind + width / 2, ('Entire Room', 'Private', 'Shared'))\n",
        "\n",
        "plt.legend(loc='best')\n",
        "plt.show()"
      ],
      "metadata": {
        "id": "PC-_TSLHSc2f"
      },
      "execution_count": null,
      "outputs": []
    },
    {
      "cell_type": "markdown",
      "source": [
        "**Insights**: Upon examination, we can evidentially state that the ratio of room type on each neighbourhood group are marginally same"
      ],
      "metadata": {
        "id": "GtIBo4lOScPg"
      }
    },
    {
      "cell_type": "markdown",
      "source": [
        "**Question 5: How neighbourhood is related to reviews?**"
      ],
      "metadata": {
        "id": "x994qY9cTUHG"
      }
    },
    {
      "cell_type": "code",
      "source": [
        "#Top 5 Neighbourhoods contributing the heighest number of reviews per month\n",
        "df.groupby(['neighbourhood'])['reviews_per_month'].max().sort_values(ascending=False).reset_index().head(5)\n"
      ],
      "metadata": {
        "id": "3vM5UEkITfq_"
      },
      "execution_count": null,
      "outputs": []
    },
    {
      "cell_type": "code",
      "source": [
        "#Top 5 Neighbourhoods contributing the heighest number of reviews\n",
        "df.groupby(['neighbourhood'])['number_of_reviews'].sum().sort_values(ascending=False).reset_index().head(5)"
      ],
      "metadata": {
        "id": "wT-1BRfQT0of"
      },
      "execution_count": null,
      "outputs": []
    },
    {
      "cell_type": "markdown",
      "source": [
        "**Question 6: How the price column is distributed over room_type?**"
      ],
      "metadata": {
        "id": "i9CSDEc5VvHD"
      }
    },
    {
      "cell_type": "code",
      "source": [
        "# lets check out the who is having highest price of all\n",
        "# and we will check its rating, minimum nights, availability_365  and last reviews in order judge\n",
        "\n",
        "df[df['price']==df['price'].max()][['host_name','reviews_per_month','last_review','availability_365','price','neighbourhood_group']]"
      ],
      "metadata": {
        "id": "UvxIgFfzVzk_"
      },
      "execution_count": null,
      "outputs": []
    },
    {
      "cell_type": "markdown",
      "source": [
        "**Insights from the analysis:**\n",
        "\n",
        "1) We can clearly state that despite of being priced heavily, the availability of 'Kathrine' and 'Erin' is 0.\n",
        "\n",
        "2) The hosts 'Kathrine' and 'Erin' were last reviewed in 2019\n",
        "\n",
        "3) Generally the affordability lays a severe impact on the probablity of being preferred by the customer, which is evidential in the current scenario"
      ],
      "metadata": {
        "id": "WF_Gsj_NV5h9"
      }
    },
    {
      "cell_type": "markdown",
      "source": [
        "**Question 7: What is the average price preferred by the customers according to each neighbourhood group for each category of room type?**"
      ],
      "metadata": {
        "id": "mPV8uRqVXSUc"
      }
    },
    {
      "cell_type": "code",
      "source": [
        "# applying groupby over 'neighbourhood_groups' and 'room_type'\n",
        "# then applying mean of price  and unstacking for clear visualization\n",
        "\n",
        "avg_price_df = df.groupby(['neighbourhood_group','room_type'])['price'].mean().unstack()\n",
        "avg_price_df"
      ],
      "metadata": {
        "id": "aTxGehbbXgbO"
      },
      "execution_count": null,
      "outputs": []
    },
    {
      "cell_type": "code",
      "source": [
        "avg_price_df.plot.bar(figsize=(15,5),ylabel='Average Price calculated')"
      ],
      "metadata": {
        "id": "WtP2cmejXsR4"
      },
      "execution_count": null,
      "outputs": []
    },
    {
      "cell_type": "markdown",
      "source": [
        "**Insights:** Manhattan offers listings at premium range, whereas the offers on Bronx is comparatively budget friendly for each room type"
      ],
      "metadata": {
        "id": "7rKEMLVCXxph"
      }
    },
    {
      "cell_type": "markdown",
      "source": [
        "**Question 8: What is the distribution of the room type across the locations?**"
      ],
      "metadata": {
        "id": "DY77qfO-YH8V"
      }
    },
    {
      "cell_type": "code",
      "source": [
        "plt.figure(figsize=(8,5))\n",
        "df['room_type'].value_counts().plot(kind='bar',color=['r','b','y'])"
      ],
      "metadata": {
        "id": "OnYCYeh4YU1N"
      },
      "execution_count": null,
      "outputs": []
    },
    {
      "cell_type": "markdown",
      "source": [
        "**Insights:**\n",
        "\n",
        "1) Maximum numbers of room are Entire home/Apartment and Private room there are only few shared rooms.\n",
        "\n",
        "2)Hosts would probably prefer to give Entire home/Appartment or Private Rooms rather than Shared rooms."
      ],
      "metadata": {
        "id": "UjS38KZyYYyv"
      }
    },
    {
      "cell_type": "code",
      "source": [
        "plt.figure(figsize=(15,8))\n",
        "sns.scatterplot(x=df['longitude'],y=df['latitude'], hue=df['room_type'])\n",
        "plt.show()"
      ],
      "metadata": {
        "id": "zzdc19eRY_Xc"
      },
      "execution_count": null,
      "outputs": []
    },
    {
      "cell_type": "markdown",
      "source": [
        "**Question 9: Which hosts are having heighest number of apartments ?**"
      ],
      "metadata": {
        "id": "z9vJmmcoZlQ5"
      }
    },
    {
      "cell_type": "code",
      "source": [
        "df['host_name'].value_counts()"
      ],
      "metadata": {
        "id": "j7M28tdnbTk_"
      },
      "execution_count": null,
      "outputs": []
    },
    {
      "cell_type": "code",
      "source": [
        "df[\"host_id\"].value_counts()"
      ],
      "metadata": {
        "id": "_LK7nhVcbWre"
      },
      "execution_count": null,
      "outputs": []
    },
    {
      "cell_type": "markdown",
      "source": [
        "**While Michael appears 417 times in the host_name column, but the host_id with maximum appearances is 327, which clearly indicates presence of multiple hosts with same name.**\n",
        "\n"
      ],
      "metadata": {
        "id": "VtT6IRVrbf9P"
      }
    },
    {
      "cell_type": "code",
      "source": [
        "df[df['host_id']==219517861]['host_name'].unique()"
      ],
      "metadata": {
        "id": "XvOHGGinbZJO"
      },
      "execution_count": null,
      "outputs": []
    },
    {
      "cell_type": "code",
      "source": [
        "df_sonder=df[df['host_name']=='Sonder (NYC)']\n",
        "df_sonder[['host_name','neighbourhood_group','neighbourhood','latitude','longitude']].head(6)"
      ],
      "metadata": {
        "id": "CyDztVNZbbU_"
      },
      "execution_count": null,
      "outputs": []
    },
    {
      "cell_type": "markdown",
      "source": [
        "**Therefore, Sonder(NYC) has the highest number of apartments in the same buildings in different neighbourhood**"
      ],
      "metadata": {
        "id": "nr-KdzSib9Ja"
      }
    },
    {
      "cell_type": "markdown",
      "source": [
        "**Question 10: Which are the top 5 hosts that have obatained heighest no. of reviews?**"
      ],
      "metadata": {
        "id": "6lJIjYz6cZoI"
      }
    },
    {
      "cell_type": "code",
      "source": [
        "host_highest_df=df.groupby(['host_id','host_name'],as_index=False)['number_of_reviews'].sum().sort_values(['number_of_reviews'],ascending = False)\n",
        "host_highest_df.head(5)"
      ],
      "metadata": {
        "id": "5YdLAPj1cdjp"
      },
      "execution_count": null,
      "outputs": []
    },
    {
      "cell_type": "markdown",
      "source": [
        "**Insights:** Upon analysing the major contributors for reviews on the platform, we can strategically frame a plan to enhance the review count on the other sites as well, eventually fetching more data to empathize the customer."
      ],
      "metadata": {
        "id": "oO-rWeRRcicP"
      }
    },
    {
      "cell_type": "markdown",
      "source": [
        "# **Conclusion**"
      ],
      "metadata": {
        "id": "gCX9965dhzqZ"
      }
    },
    {
      "cell_type": "markdown",
      "source": [
        "Based on our analysis of the Airbnb booking data, we can conclude that Manhattan is the most popular neighborhood for Airbnb listings, with the largest number of apartments available, albeit with higher prices. Staten Island, on the other hand, has the fewest listings and is an opportunity for potential expansion.\n",
        "\n",
        "Interestingly, despite the relatively equal distribution of room types across the different neighborhood groups, the availability of certain highly priced listings, such as \"Kathrine\" and \"Erin,\" is low and may be affecting customer choices. It is also worth noting that, in general, affordability plays a significant role in customers' preferences and decision-making.\n",
        "\n",
        "In terms of room types, entire homes/apartments and private rooms are the most popular, with just a few shared rooms available. Hosts may prefer to offer entire homes/apartments or private rooms, reflecting the customer's preference for privacy and a home-like experience.\n",
        "\n",
        "analysis also reveals an opportunity to increase reviews on some of the less popular sites, which would be useful for gathering more data and improving the customer experience. In conclusion, our analysis suggests that Airbnb could focus its expansion efforts on Staten Island, while also considering pricing and customer preferences to meet their needs better.\n",
        "\n",
        "Of all the neighborhoods in New York City, Manhattan has the highest number available Airbnb listings. This evidence that it is the most popular neighborhood for tourists visiting the city. However, the pricing of listings here is generally higher compared to other neighborhoods. Despite the high prices, Manhattan listings get booked frequently, indicating the desire of visitors to experience what the neighborhood has to offer.\n",
        "\n",
        "On the other hand, Staten Island has the least number of listings. While it may not be as popular as Manhattan, it presents an opportunity area for Airbnb expansion. This neighborhood is favorable for travelers looking to avoid the busy city experience and enjoy a quiet, relaxing atmosphere.\n",
        "\n",
        "An interesting yet concerning observation from the analysis is that some highly-priced listings such as \"Kathrine\" and \"Erin\" have low availability. This may lead to a loss in revenue for Airbnb as customers opt for other options available. Hosts should consider pricing their listings in a way that is attractive and appealing to potential customers. This would benefit them with more frequent bookings and increased revenue.\n",
        "\n",
        "Most customers prefer entire homes/apartments or private rooms to shared rooms. This indicates that hosts may consider offering this type of room accommodation more to satisfy the customer's preferences. Airbnb can use this information to encourage more hosts to offer entire homes/apartments or private rooms to attract more bookings and meet customer demands.\n",
        "\n",
        "Finally, the review count on Airbnb listings plays a significant role in attracting customers. This analysis presents an opportunity to enhance the review count for less popular sites. Ultimately, this would lead to increased data, fostering understanding and empathy for the customer, thus increasing overall customer satisfaction.\n",
        "\n",
        "In conclusion, analyzing data is an integral part of growing any business. Based on the findings from this analysis, Airbnb can develop a framework for future expansion, pricing, and customer satisfaction that aligns with the preferences and demands of the customer base."
      ],
      "metadata": {
        "id": "SnGVDfniYHBe"
      }
    }
  ]
}